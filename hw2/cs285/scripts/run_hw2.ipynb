{
 "cells": [
  {
   "cell_type": "markdown",
   "metadata": {
    "toc": true
   },
   "source": [
    "<h1>Table of Contents<span class=\"tocSkip\"></span></h1>\n",
    "<div class=\"toc\"><ul class=\"toc-item\"><li><span><a href=\"#Editing-Code\" data-toc-modified-id=\"Editing-Code-1\"><span class=\"toc-item-num\">1&nbsp;&nbsp;</span>Editing Code</a></span></li><li><span><a href=\"#Run-Policy-Gradients\" data-toc-modified-id=\"Run-Policy-Gradients-2\"><span class=\"toc-item-num\">2&nbsp;&nbsp;</span>Run Policy Gradients</a></span></li></ul></div>"
   ]
  },
  {
   "cell_type": "markdown",
   "metadata": {
    "id": "Gwo9bpaVgxXF"
   },
   "source": [
    "##Setup\n",
    "\n",
    "You will need to make a copy of this notebook in your Google Drive before you can edit the homework files. You can do so with **File &rarr; Save a copy in Drive**."
   ]
  },
  {
   "cell_type": "code",
   "execution_count": 1,
   "metadata": {
    "colab": {
     "base_uri": "https://localhost:8080/"
    },
    "id": "6CAdiyTKi4Se",
    "outputId": "ee6c0580-5b1b-45c1-b2b3-79dea1a04417"
   },
   "outputs": [],
   "source": [
    "#@title mount your Google Drive\n",
    "#@markdown Your work will be stored in a folder called `cs285_f2022` by default to prevent Colab instance timeouts from deleting your edits.\n",
    "\n",
    "# import os\n",
    "# from google.colab import drive\n",
    "# drive.mount('/content/gdrive')"
   ]
  },
  {
   "cell_type": "code",
   "execution_count": 2,
   "metadata": {
    "id": "BKE5nA1Fgwwy"
   },
   "outputs": [],
   "source": [
    "#@title set up mount symlink\n",
    "\n",
    "# DRIVE_PATH = '/content/gdrive/My\\ Drive/cs285_f2022'\n",
    "# DRIVE_PYTHON_PATH = DRIVE_PATH.replace('\\\\', '')\n",
    "# if not os.path.exists(DRIVE_PYTHON_PATH):\n",
    "#   %mkdir $DRIVE_PATH\n",
    "\n",
    "# ## the space in `My Drive` causes some issues,\n",
    "# ## make a symlink to avoid this\n",
    "# SYM_PATH = '/content/cs285_f2022'\n",
    "# if not os.path.exists(SYM_PATH):\n",
    "#   !ln -s $DRIVE_PATH $SYM_PATH"
   ]
  },
  {
   "cell_type": "code",
   "execution_count": 3,
   "metadata": {
    "colab": {
     "base_uri": "https://localhost:8080/"
    },
    "id": "9FGK4kbpg3iP",
    "outputId": "90067e97-0d55-4778-a812-d4c0e3011e1c"
   },
   "outputs": [],
   "source": [
    "# #@title apt install requirements\n",
    "\n",
    "# #@markdown Run each section with Shift+Enter\n",
    "\n",
    "# #@markdown Double-click on section headers to show code.\n",
    "\n",
    "# !apt update \n",
    "# !apt install -y --no-install-recommends \\\n",
    "#         build-essential \\\n",
    "#         curl \\\n",
    "#         git \\\n",
    "#         gnupg2 \\\n",
    "#         make \\\n",
    "#         cmake \\\n",
    "#         ffmpeg \\\n",
    "#         swig \\\n",
    "#         libz-dev \\\n",
    "#         unzip \\\n",
    "#         zlib1g-dev \\\n",
    "#         libglfw3 \\\n",
    "#         libglfw3-dev \\\n",
    "#         libxrandr2 \\\n",
    "#         libxinerama-dev \\\n",
    "#         libxi6 \\\n",
    "#         libxcursor-dev \\\n",
    "#         libgl1-mesa-dev \\\n",
    "#         libgl1-mesa-glx \\\n",
    "#         libglew-dev \\\n",
    "#         libosmesa6-dev \\\n",
    "#         lsb-release \\\n",
    "#         ack-grep \\\n",
    "#         patchelf \\\n",
    "#         wget \\\n",
    "#         xpra \\\n",
    "#         xserver-xorg-dev \\\n",
    "#         xvfb \\\n",
    "#         python-opengl \\\n",
    "#         ffmpeg"
   ]
  },
  {
   "cell_type": "code",
   "execution_count": 4,
   "metadata": {
    "id": "YNGuuABeg99q"
   },
   "outputs": [],
   "source": [
    "# #@title clone homework repo\n",
    "\n",
    "# %cd $SYM_PATH\n",
    "# !git clone https://github.com/berkeleydeeprlcourse/homework_fall2022.git\n",
    "# %cd homework_fall2022/hw2\n",
    "# %pip install -r requirements_colab.txt\n",
    "# %pip install gym[box2d]==0.25.2\n",
    "# %pip install -e ."
   ]
  },
  {
   "cell_type": "code",
   "execution_count": 5,
   "metadata": {
    "id": "y0MiuTJ4hT5z"
   },
   "outputs": [],
   "source": [
    "#@title set up virtual display\n",
    "\n",
    "from pyvirtualdisplay import Display\n",
    "\n",
    "# display = Display(visible=0, size=(1400, 900))\n",
    "# display.start()"
   ]
  },
  {
   "cell_type": "code",
   "execution_count": 6,
   "metadata": {
    "colab": {
     "base_uri": "https://localhost:8080/",
     "height": 438
    },
    "id": "COqsZLeliU9Y",
    "outputId": "55f7feb0-e730-4789-c73d-3ec695b48757"
   },
   "outputs": [
    {
     "ename": "Exception",
     "evalue": "Please add mujoco library to your PATH:\nset PATH=C:\\ProgramData\\Anaconda3\\envs\\cs285\\lib\\site-packages\\mujoco_py\\binaries\\windows\\mujoco210\\bin;%PATH%",
     "output_type": "error",
     "traceback": [
      "\u001b[1;31m---------------------------------------------------------------------------\u001b[0m",
      "\u001b[1;31mException\u001b[0m                                 Traceback (most recent call last)",
      "\u001b[1;32m~\\AppData\\Local\\Temp\\ipykernel_27252\\1020413040.py\u001b[0m in \u001b[0;36m<module>\u001b[1;34m\u001b[0m\n\u001b[0;32m      9\u001b[0m )\n\u001b[0;32m     10\u001b[0m \u001b[1;33m\u001b[0m\u001b[0m\n\u001b[1;32m---> 11\u001b[1;33m \u001b[0menv\u001b[0m \u001b[1;33m=\u001b[0m \u001b[0mwrap_env\u001b[0m\u001b[1;33m(\u001b[0m\u001b[0mgym\u001b[0m\u001b[1;33m.\u001b[0m\u001b[0mmake\u001b[0m\u001b[1;33m(\u001b[0m\u001b[1;34m\"Ant-v4\"\u001b[0m\u001b[1;33m,\u001b[0m \u001b[0mrender_mode\u001b[0m\u001b[1;33m=\u001b[0m\u001b[1;34m'rgb_array'\u001b[0m\u001b[1;33m)\u001b[0m\u001b[1;33m)\u001b[0m\u001b[1;33m\u001b[0m\u001b[1;33m\u001b[0m\u001b[0m\n\u001b[0m\u001b[0;32m     12\u001b[0m \u001b[1;33m\u001b[0m\u001b[0m\n\u001b[0;32m     13\u001b[0m \u001b[0mobservation\u001b[0m \u001b[1;33m=\u001b[0m \u001b[0menv\u001b[0m\u001b[1;33m.\u001b[0m\u001b[0mreset\u001b[0m\u001b[1;33m(\u001b[0m\u001b[1;33m)\u001b[0m\u001b[1;33m\u001b[0m\u001b[1;33m\u001b[0m\u001b[0m\n",
      "\u001b[1;32mC:\\ProgramData\\Anaconda3\\envs\\cs285\\lib\\site-packages\\gym\\envs\\registration.py\u001b[0m in \u001b[0;36mmake\u001b[1;34m(id, max_episode_steps, autoreset, new_step_api, disable_env_checker, **kwargs)\u001b[0m\n\u001b[0;32m    617\u001b[0m     \u001b[1;32melse\u001b[0m\u001b[1;33m:\u001b[0m\u001b[1;33m\u001b[0m\u001b[1;33m\u001b[0m\u001b[0m\n\u001b[0;32m    618\u001b[0m         \u001b[1;31m# Assume it's a string\u001b[0m\u001b[1;33m\u001b[0m\u001b[1;33m\u001b[0m\u001b[1;33m\u001b[0m\u001b[0m\n\u001b[1;32m--> 619\u001b[1;33m         \u001b[0menv_creator\u001b[0m \u001b[1;33m=\u001b[0m \u001b[0mload\u001b[0m\u001b[1;33m(\u001b[0m\u001b[0mspec_\u001b[0m\u001b[1;33m.\u001b[0m\u001b[0mentry_point\u001b[0m\u001b[1;33m)\u001b[0m\u001b[1;33m\u001b[0m\u001b[1;33m\u001b[0m\u001b[0m\n\u001b[0m\u001b[0;32m    620\u001b[0m \u001b[1;33m\u001b[0m\u001b[0m\n\u001b[0;32m    621\u001b[0m     \u001b[0mmode\u001b[0m \u001b[1;33m=\u001b[0m \u001b[0m_kwargs\u001b[0m\u001b[1;33m.\u001b[0m\u001b[0mget\u001b[0m\u001b[1;33m(\u001b[0m\u001b[1;34m\"render_mode\"\u001b[0m\u001b[1;33m)\u001b[0m\u001b[1;33m\u001b[0m\u001b[1;33m\u001b[0m\u001b[0m\n",
      "\u001b[1;32mC:\\ProgramData\\Anaconda3\\envs\\cs285\\lib\\site-packages\\gym\\envs\\registration.py\u001b[0m in \u001b[0;36mload\u001b[1;34m(name)\u001b[0m\n\u001b[0;32m     60\u001b[0m     \"\"\"\n\u001b[0;32m     61\u001b[0m     \u001b[0mmod_name\u001b[0m\u001b[1;33m,\u001b[0m \u001b[0mattr_name\u001b[0m \u001b[1;33m=\u001b[0m \u001b[0mname\u001b[0m\u001b[1;33m.\u001b[0m\u001b[0msplit\u001b[0m\u001b[1;33m(\u001b[0m\u001b[1;34m\":\"\u001b[0m\u001b[1;33m)\u001b[0m\u001b[1;33m\u001b[0m\u001b[1;33m\u001b[0m\u001b[0m\n\u001b[1;32m---> 62\u001b[1;33m     \u001b[0mmod\u001b[0m \u001b[1;33m=\u001b[0m \u001b[0mimportlib\u001b[0m\u001b[1;33m.\u001b[0m\u001b[0mimport_module\u001b[0m\u001b[1;33m(\u001b[0m\u001b[0mmod_name\u001b[0m\u001b[1;33m)\u001b[0m\u001b[1;33m\u001b[0m\u001b[1;33m\u001b[0m\u001b[0m\n\u001b[0m\u001b[0;32m     63\u001b[0m     \u001b[0mfn\u001b[0m \u001b[1;33m=\u001b[0m \u001b[0mgetattr\u001b[0m\u001b[1;33m(\u001b[0m\u001b[0mmod\u001b[0m\u001b[1;33m,\u001b[0m \u001b[0mattr_name\u001b[0m\u001b[1;33m)\u001b[0m\u001b[1;33m\u001b[0m\u001b[1;33m\u001b[0m\u001b[0m\n\u001b[0;32m     64\u001b[0m     \u001b[1;32mreturn\u001b[0m \u001b[0mfn\u001b[0m\u001b[1;33m\u001b[0m\u001b[1;33m\u001b[0m\u001b[0m\n",
      "\u001b[1;32mC:\\ProgramData\\Anaconda3\\envs\\cs285\\lib\\importlib\\__init__.py\u001b[0m in \u001b[0;36mimport_module\u001b[1;34m(name, package)\u001b[0m\n\u001b[0;32m    125\u001b[0m                 \u001b[1;32mbreak\u001b[0m\u001b[1;33m\u001b[0m\u001b[1;33m\u001b[0m\u001b[0m\n\u001b[0;32m    126\u001b[0m             \u001b[0mlevel\u001b[0m \u001b[1;33m+=\u001b[0m \u001b[1;36m1\u001b[0m\u001b[1;33m\u001b[0m\u001b[1;33m\u001b[0m\u001b[0m\n\u001b[1;32m--> 127\u001b[1;33m     \u001b[1;32mreturn\u001b[0m \u001b[0m_bootstrap\u001b[0m\u001b[1;33m.\u001b[0m\u001b[0m_gcd_import\u001b[0m\u001b[1;33m(\u001b[0m\u001b[0mname\u001b[0m\u001b[1;33m[\u001b[0m\u001b[0mlevel\u001b[0m\u001b[1;33m:\u001b[0m\u001b[1;33m]\u001b[0m\u001b[1;33m,\u001b[0m \u001b[0mpackage\u001b[0m\u001b[1;33m,\u001b[0m \u001b[0mlevel\u001b[0m\u001b[1;33m)\u001b[0m\u001b[1;33m\u001b[0m\u001b[1;33m\u001b[0m\u001b[0m\n\u001b[0m\u001b[0;32m    128\u001b[0m \u001b[1;33m\u001b[0m\u001b[0m\n\u001b[0;32m    129\u001b[0m \u001b[1;33m\u001b[0m\u001b[0m\n",
      "\u001b[1;32mC:\\ProgramData\\Anaconda3\\envs\\cs285\\lib\\importlib\\_bootstrap.py\u001b[0m in \u001b[0;36m_gcd_import\u001b[1;34m(name, package, level)\u001b[0m\n",
      "\u001b[1;32mC:\\ProgramData\\Anaconda3\\envs\\cs285\\lib\\importlib\\_bootstrap.py\u001b[0m in \u001b[0;36m_find_and_load\u001b[1;34m(name, import_)\u001b[0m\n",
      "\u001b[1;32mC:\\ProgramData\\Anaconda3\\envs\\cs285\\lib\\importlib\\_bootstrap.py\u001b[0m in \u001b[0;36m_find_and_load_unlocked\u001b[1;34m(name, import_)\u001b[0m\n",
      "\u001b[1;32mC:\\ProgramData\\Anaconda3\\envs\\cs285\\lib\\importlib\\_bootstrap.py\u001b[0m in \u001b[0;36m_call_with_frames_removed\u001b[1;34m(f, *args, **kwds)\u001b[0m\n",
      "\u001b[1;32mC:\\ProgramData\\Anaconda3\\envs\\cs285\\lib\\importlib\\_bootstrap.py\u001b[0m in \u001b[0;36m_gcd_import\u001b[1;34m(name, package, level)\u001b[0m\n",
      "\u001b[1;32mC:\\ProgramData\\Anaconda3\\envs\\cs285\\lib\\importlib\\_bootstrap.py\u001b[0m in \u001b[0;36m_find_and_load\u001b[1;34m(name, import_)\u001b[0m\n",
      "\u001b[1;32mC:\\ProgramData\\Anaconda3\\envs\\cs285\\lib\\importlib\\_bootstrap.py\u001b[0m in \u001b[0;36m_find_and_load_unlocked\u001b[1;34m(name, import_)\u001b[0m\n",
      "\u001b[1;32mC:\\ProgramData\\Anaconda3\\envs\\cs285\\lib\\importlib\\_bootstrap.py\u001b[0m in \u001b[0;36m_load_unlocked\u001b[1;34m(spec)\u001b[0m\n",
      "\u001b[1;32mC:\\ProgramData\\Anaconda3\\envs\\cs285\\lib\\importlib\\_bootstrap_external.py\u001b[0m in \u001b[0;36mexec_module\u001b[1;34m(self, module)\u001b[0m\n",
      "\u001b[1;32mC:\\ProgramData\\Anaconda3\\envs\\cs285\\lib\\importlib\\_bootstrap.py\u001b[0m in \u001b[0;36m_call_with_frames_removed\u001b[1;34m(f, *args, **kwds)\u001b[0m\n",
      "\u001b[1;32mC:\\ProgramData\\Anaconda3\\envs\\cs285\\lib\\site-packages\\gym\\envs\\mujoco\\__init__.py\u001b[0m in \u001b[0;36m<module>\u001b[1;34m\u001b[0m\n\u001b[1;32m----> 1\u001b[1;33m \u001b[1;32mfrom\u001b[0m \u001b[0mgym\u001b[0m\u001b[1;33m.\u001b[0m\u001b[0menvs\u001b[0m\u001b[1;33m.\u001b[0m\u001b[0mmujoco\u001b[0m\u001b[1;33m.\u001b[0m\u001b[0mmujoco_env\u001b[0m \u001b[1;32mimport\u001b[0m \u001b[0mMujocoEnv\u001b[0m\u001b[1;33m,\u001b[0m \u001b[0mMuJocoPyEnv\u001b[0m  \u001b[1;31m# isort:skip\u001b[0m\u001b[1;33m\u001b[0m\u001b[1;33m\u001b[0m\u001b[0m\n\u001b[0m\u001b[0;32m      2\u001b[0m from gym.envs.mujoco.mujoco_rendering import (  # isort:skip\n\u001b[0;32m      3\u001b[0m     \u001b[0mRenderContextOffscreen\u001b[0m\u001b[1;33m,\u001b[0m\u001b[1;33m\u001b[0m\u001b[1;33m\u001b[0m\u001b[0m\n\u001b[0;32m      4\u001b[0m     \u001b[0mViewer\u001b[0m\u001b[1;33m,\u001b[0m\u001b[1;33m\u001b[0m\u001b[1;33m\u001b[0m\u001b[0m\n\u001b[0;32m      5\u001b[0m )\n",
      "\u001b[1;32mC:\\ProgramData\\Anaconda3\\envs\\cs285\\lib\\site-packages\\gym\\envs\\mujoco\\mujoco_env.py\u001b[0m in \u001b[0;36m<module>\u001b[1;34m\u001b[0m\n\u001b[0;32m     14\u001b[0m \u001b[1;33m\u001b[0m\u001b[0m\n\u001b[0;32m     15\u001b[0m \u001b[1;32mtry\u001b[0m\u001b[1;33m:\u001b[0m\u001b[1;33m\u001b[0m\u001b[1;33m\u001b[0m\u001b[0m\n\u001b[1;32m---> 16\u001b[1;33m     \u001b[1;32mimport\u001b[0m \u001b[0mmujoco_py\u001b[0m\u001b[1;33m\u001b[0m\u001b[1;33m\u001b[0m\u001b[0m\n\u001b[0m\u001b[0;32m     17\u001b[0m \u001b[1;32mexcept\u001b[0m \u001b[0mImportError\u001b[0m \u001b[1;32mas\u001b[0m \u001b[0me\u001b[0m\u001b[1;33m:\u001b[0m\u001b[1;33m\u001b[0m\u001b[1;33m\u001b[0m\u001b[0m\n\u001b[0;32m     18\u001b[0m     \u001b[0mMUJOCO_PY_IMPORT_ERROR\u001b[0m \u001b[1;33m=\u001b[0m \u001b[0me\u001b[0m\u001b[1;33m\u001b[0m\u001b[1;33m\u001b[0m\u001b[0m\n",
      "\u001b[1;32mC:\\ProgramData\\Anaconda3\\envs\\cs285\\lib\\site-packages\\mujoco_py\\__init__.py\u001b[0m in \u001b[0;36m<module>\u001b[1;34m\u001b[0m\n\u001b[0;32m     13\u001b[0m \u001b[1;33m\u001b[0m\u001b[0m\n\u001b[0;32m     14\u001b[0m \u001b[1;31m#!/usr/bin/env python\u001b[0m\u001b[1;33m\u001b[0m\u001b[1;33m\u001b[0m\u001b[1;33m\u001b[0m\u001b[0m\n\u001b[1;32m---> 15\u001b[1;33m \u001b[1;32mfrom\u001b[0m \u001b[0mmujoco_py\u001b[0m\u001b[1;33m.\u001b[0m\u001b[0mbuilder\u001b[0m \u001b[1;32mimport\u001b[0m \u001b[0mcymj\u001b[0m\u001b[1;33m,\u001b[0m \u001b[0mignore_mujoco_warnings\u001b[0m\u001b[1;33m,\u001b[0m \u001b[0mfunctions\u001b[0m\u001b[1;33m,\u001b[0m \u001b[0mMujocoException\u001b[0m\u001b[1;33m\u001b[0m\u001b[1;33m\u001b[0m\u001b[0m\n\u001b[0m\u001b[0;32m     16\u001b[0m \u001b[1;32mfrom\u001b[0m \u001b[0mmujoco_py\u001b[0m\u001b[1;33m.\u001b[0m\u001b[0mgenerated\u001b[0m \u001b[1;32mimport\u001b[0m \u001b[0mconst\u001b[0m\u001b[1;33m\u001b[0m\u001b[1;33m\u001b[0m\u001b[0m\n\u001b[0;32m     17\u001b[0m \u001b[1;32mfrom\u001b[0m \u001b[0mmujoco_py\u001b[0m\u001b[1;33m.\u001b[0m\u001b[0mmjrenderpool\u001b[0m \u001b[1;32mimport\u001b[0m \u001b[0mMjRenderPool\u001b[0m\u001b[1;33m\u001b[0m\u001b[1;33m\u001b[0m\u001b[0m\n",
      "\u001b[1;32mC:\\ProgramData\\Anaconda3\\envs\\cs285\\lib\\site-packages\\mujoco_py\\builder.py\u001b[0m in \u001b[0;36m<module>\u001b[1;34m\u001b[0m\n\u001b[0;32m    497\u001b[0m \u001b[1;33m\u001b[0m\u001b[0m\n\u001b[0;32m    498\u001b[0m \u001b[0mmujoco_path\u001b[0m \u001b[1;33m=\u001b[0m \u001b[0mdiscover_mujoco\u001b[0m\u001b[1;33m(\u001b[0m\u001b[1;33m)\u001b[0m\u001b[1;33m\u001b[0m\u001b[1;33m\u001b[0m\u001b[0m\n\u001b[1;32m--> 499\u001b[1;33m \u001b[0mcymj\u001b[0m \u001b[1;33m=\u001b[0m \u001b[0mload_cython_ext\u001b[0m\u001b[1;33m(\u001b[0m\u001b[0mmujoco_path\u001b[0m\u001b[1;33m)\u001b[0m\u001b[1;33m\u001b[0m\u001b[1;33m\u001b[0m\u001b[0m\n\u001b[0m\u001b[0;32m    500\u001b[0m \u001b[1;33m\u001b[0m\u001b[0m\n\u001b[0;32m    501\u001b[0m \u001b[1;33m\u001b[0m\u001b[0m\n",
      "\u001b[1;32mC:\\ProgramData\\Anaconda3\\envs\\cs285\\lib\\site-packages\\mujoco_py\\builder.py\u001b[0m in \u001b[0;36mload_cython_ext\u001b[1;34m(mujoco_path)\u001b[0m\n\u001b[0;32m     77\u001b[0m         \u001b[1;32mif\u001b[0m \u001b[0mvar\u001b[0m \u001b[1;32mnot\u001b[0m \u001b[1;32min\u001b[0m \u001b[0mos\u001b[0m\u001b[1;33m.\u001b[0m\u001b[0menviron\u001b[0m \u001b[1;32mor\u001b[0m \u001b[0mlib_path\u001b[0m \u001b[1;32mnot\u001b[0m \u001b[1;32min\u001b[0m \u001b[0mos\u001b[0m\u001b[1;33m.\u001b[0m\u001b[0menviron\u001b[0m\u001b[1;33m[\u001b[0m\u001b[0mvar\u001b[0m\u001b[1;33m]\u001b[0m\u001b[1;33m.\u001b[0m\u001b[0msplit\u001b[0m\u001b[1;33m(\u001b[0m\u001b[1;34m\";\"\u001b[0m\u001b[1;33m)\u001b[0m\u001b[1;33m:\u001b[0m\u001b[1;33m\u001b[0m\u001b[1;33m\u001b[0m\u001b[0m\n\u001b[0;32m     78\u001b[0m             raise Exception(\"Please add mujoco library to your PATH:\\n\"\n\u001b[1;32m---> 79\u001b[1;33m                             \"set %s=%s;%%%s%%\" % (var, lib_path, var))\n\u001b[0m\u001b[0;32m     80\u001b[0m         \u001b[0mBuilder\u001b[0m \u001b[1;33m=\u001b[0m \u001b[0mWindowsExtensionBuilder\u001b[0m\u001b[1;33m\u001b[0m\u001b[1;33m\u001b[0m\u001b[0m\n\u001b[0;32m     81\u001b[0m     \u001b[1;32melse\u001b[0m\u001b[1;33m:\u001b[0m\u001b[1;33m\u001b[0m\u001b[1;33m\u001b[0m\u001b[0m\n",
      "\u001b[1;31mException\u001b[0m: Please add mujoco library to your PATH:\nset PATH=C:\\ProgramData\\Anaconda3\\envs\\cs285\\lib\\site-packages\\mujoco_py\\binaries\\windows\\mujoco210\\bin;%PATH%"
     ]
    }
   ],
   "source": [
    "#@title test virtual display\n",
    "\n",
    "#@markdown If you see a video of a four-legged ant fumbling about, setup is complete!\n",
    "\n",
    "import gym\n",
    "from cs285.infrastructure.colab_utils import (\n",
    "    wrap_env,\n",
    "    show_video\n",
    ")\n",
    "\n",
    "env = wrap_env(gym.make(\"Ant-v4\", render_mode='rgb_array'))\n",
    "\n",
    "observation = env.reset()\n",
    "for i in range(100):\n",
    "    env.render()\n",
    "    obs, rew, term, _ = env.step(env.action_space.sample() ) \n",
    "    if term:\n",
    "      break;\n",
    "            \n",
    "env.close()\n",
    "print('Loading video...')\n",
    "show_video()"
   ]
  },
  {
   "cell_type": "markdown",
   "metadata": {
    "id": "ygs968BbiYHr"
   },
   "source": [
    "## Editing Code\n",
    "\n",
    "To edit code, click the folder icon on the left menu. Navigate to the corresponding file (`cs285_f2022/...`). Double click a file to open an editor. There is a timeout of about ~12 hours with Colab while it is active (and less if you close your browser window). We sync your edits to Google Drive so that you won't lose your work in the event of an instance timeout, but you will need to re-mount your Google Drive and re-install packages with every new instance."
   ]
  },
  {
   "cell_type": "markdown",
   "metadata": {
    "id": "9qUmV93fif6S"
   },
   "source": [
    "## Run Policy Gradients"
   ]
  },
  {
   "cell_type": "code",
   "execution_count": 7,
   "metadata": {
    "cellView": "form",
    "id": "lN-gZkqiijnR"
   },
   "outputs": [
    {
     "name": "stderr",
     "output_type": "stream",
     "text": [
      "C:\\ProgramData\\Anaconda3\\envs\\cs285\\lib\\site-packages\\tqdm\\auto.py:22: TqdmWarning: IProgress not found. Please update jupyter and ipywidgets. See https://ipywidgets.readthedocs.io/en/stable/user_install.html\n",
      "  from .autonotebook import tqdm as notebook_tqdm\n",
      "C:\\ProgramData\\Anaconda3\\envs\\cs285\\lib\\site-packages\\IPython\\extensions\\autoreload.py:121: DeprecationWarning: the imp module is deprecated in favour of importlib; see the module's documentation for alternative uses\n",
      "  from imp import reload\n"
     ]
    }
   ],
   "source": [
    "#@title imports\n",
    "\n",
    "import os\n",
    "import time\n",
    "\n",
    "from cs285.infrastructure.rl_trainer import RL_Trainer\n",
    "from cs285.agents.pg_agent import PGAgent\n",
    "\n",
    "%load_ext autoreload\n",
    "%autoreload 2"
   ]
  },
  {
   "cell_type": "code",
   "execution_count": 8,
   "metadata": {
    "id": "Q6NaOWhOinnU"
   },
   "outputs": [],
   "source": [
    "#@title runtime arguments\n",
    "\n",
    "class Args:\n",
    "\n",
    "  def __getitem__(self, key):\n",
    "    return getattr(self, key)\n",
    "\n",
    "  def __setitem__(self, key, val):\n",
    "    setattr(self, key, val)\n",
    "\n",
    "  def __contains__(self, key):\n",
    "    return hasattr(self, key)\n",
    "\n",
    "  env_name = 'CartPole-v0' #@param\n",
    "  exp_name = 'q1_sb_rtg_na' #@param\n",
    "\n",
    "  #@markdown main parameters of interest\n",
    "  n_iter = 100 #@param {type: \"integer\"}\n",
    "\n",
    "  ## PDF will tell you how to set ep_len\n",
    "  ## and discount for each environment\n",
    "  ep_len = 200 #@param {type: \"integer\"}\n",
    "  discount = 0.95 #@param {type: \"number\"}\n",
    "\n",
    "  reward_to_go = True #@param {type: \"boolean\"}\n",
    "  nn_baseline = False #@param {type: \"boolean\"}\n",
    "  gae_lambda = None #@param {type: \"float\"}\n",
    "  dont_standardize_advantages = False #@param {type: \"boolean\"}\n",
    "\n",
    "  #@markdown batches and steps\n",
    "  batch_size = 1000 #@param {type: \"integer\"}\n",
    "  eval_batch_size = 400 #@param {type: \"integer\"}\n",
    "\n",
    "  num_agent_train_steps_per_iter = 1 #@param {type: \"integer\"}\n",
    "  learning_rate =  5e-3 #@param {type: \"number\"}\n",
    "\n",
    "  #@markdown MLP parameters\n",
    "  n_layers = 2 #@param {type: \"integer\"}\n",
    "  size = 64 #@param {type: \"integer\"}\n",
    "\n",
    "  #@markdown system\n",
    "  save_params = False #@param {type: \"boolean\"}\n",
    "  no_gpu = False #@param {type: \"boolean\"}\n",
    "  which_gpu = 0 #@param {type: \"integer\"}\n",
    "  seed = 1 #@param {type: \"integer\"}\n",
    "    \n",
    "  action_noise_std = 0 #@param {type: \"float\"}\n",
    "\n",
    "  #@markdown logging\n",
    "  ## default is to not log video so\n",
    "  ## that logs are small enough to be\n",
    "  ## uploaded to gradscope\n",
    "  video_log_freq =  -1#@param {type: \"integer\"}\n",
    "  scalar_log_freq =  1#@param {type: \"integer\"}\n",
    "\n",
    "\n",
    "args = Args()\n",
    "\n",
    "## ensure compatibility with hw1 code\n",
    "args['train_batch_size'] = args['batch_size']\n",
    "\n",
    "if args['video_log_freq'] > 0:\n",
    "  import warnings\n",
    "  warnings.warn(\n",
    "      '''\\nLogging videos will make eventfiles too'''\n",
    "      '''\\nlarge for the autograder. Set video_log_freq = -1'''\n",
    "      '''\\nfor the runs you intend to submit.''')"
   ]
  },
  {
   "cell_type": "code",
   "execution_count": 41,
   "metadata": {
    "id": "eScWwHhnsYkd"
   },
   "outputs": [],
   "source": [
    "#@title create directory for logging\n",
    "import os\n",
    "\n",
    "# data_path = '''/content/cs285_f2022/''' \\\n",
    "#             '''homework_fall2022/hw2/data'''\n",
    "data_path = \"C:/Users/Terence Neo/Dropbox/Berkeley Modules/CS285 Deep Reinforcement Learning/homework_fall2022/hw2/data\"\n",
    "\n",
    "if not (os.path.exists(data_path)):\n",
    "    os.makedirs(data_path)\n",
    "\n",
    "# logdir = args.exp_name + '_' + args.env_name + '_' + time.strftime(\"%d-%m-%Y_%H-%M-%S\")\n",
    "# logdir = os.path.join(data_path, logdir)\n",
    "# args['logdir'] = logdir\n",
    "# if not(os.path.exists(logdir)):\n",
    "#     os.makedirs(logdir)"
   ]
  },
  {
   "cell_type": "code",
   "execution_count": 42,
   "metadata": {
    "id": "aljzrLdAsvNu"
   },
   "outputs": [],
   "source": [
    "# ## define policy gradient trainer\n",
    "\n",
    "# class PG_Trainer(object):\n",
    "\n",
    "#     def __init__(self, params):\n",
    "\n",
    "#         #####################\n",
    "#         ## SET AGENT PARAMS\n",
    "#         #####################\n",
    "\n",
    "#         computation_graph_args = {\n",
    "#             'n_layers': params['n_layers'],\n",
    "#             'size': params['size'],\n",
    "#             'learning_rate': params['learning_rate'],\n",
    "#             }\n",
    "\n",
    "#         estimate_advantage_args = {\n",
    "#             'gamma': params['discount'],\n",
    "#             'standardize_advantages': not(params['dont_standardize_advantages']),\n",
    "#             'reward_to_go': params['reward_to_go'],\n",
    "#             'nn_baseline': params['nn_baseline'],\n",
    "#             'gae_lambda': params['gae_lambda'],\n",
    "#         }\n",
    "\n",
    "#         train_args = {\n",
    "#             'num_agent_train_steps_per_iter': params['num_agent_train_steps_per_iter'],\n",
    "#         }\n",
    "\n",
    "#         agent_params = {**computation_graph_args, **estimate_advantage_args, **train_args}\n",
    "\n",
    "#         self.params = params\n",
    "#         self.params['agent_class'] = PGAgent\n",
    "#         self.params['agent_params'] = agent_params\n",
    "#         self.params['batch_size_initial'] = self.params['batch_size']\n",
    "\n",
    "#         ################\n",
    "#         ## RL TRAINER\n",
    "#         ################\n",
    "\n",
    "#         self.rl_trainer = RL_Trainer(self.params)\n",
    "\n",
    "#     def run_training_loop(self):\n",
    "\n",
    "#         self.rl_trainer.run_training_loop(\n",
    "#             self.params['n_iter'],\n",
    "#             collect_policy = self.rl_trainer.agent.actor,\n",
    "#             eval_policy = self.rl_trainer.agent.actor,\n",
    "#             )"
   ]
  },
  {
   "cell_type": "code",
   "execution_count": 43,
   "metadata": {
    "id": "j2rCuQsRsd3N"
   },
   "outputs": [],
   "source": [
    "## run training\n",
    "\n",
    "# print(args.logdir)\n",
    "# trainer = PG_Trainer(args)\n",
    "# trainer.run_training_loop()"
   ]
  },
  {
   "cell_type": "code",
   "execution_count": 44,
   "metadata": {},
   "outputs": [
    {
     "data": {
      "text/plain": [
       "'C:/Users/Terence Neo/Dropbox/Berkeley Modules/CS285 Deep Reinforcement Learning/homework_fall2022/hw2/data'"
      ]
     },
     "execution_count": 44,
     "metadata": {},
     "output_type": "execute_result"
    }
   ],
   "source": [
    "data_path"
   ]
  },
  {
   "cell_type": "code",
   "execution_count": 40,
   "metadata": {},
   "outputs": [
    {
     "data": {
      "text/plain": [
       "'C:\\\\Users\\\\Terence Neo\\\\Dropbox\\\\Berkeley Modules\\\\CS285 Deep Reinforcement Learning\\\\homework_fall2022\\\\hw2\\\\data'"
      ]
     },
     "execution_count": 40,
     "metadata": {},
     "output_type": "execute_result"
    }
   ],
   "source": [
    "data_path = data_path.replace('/', \"\\\\\")\n",
    "data_path"
   ]
  },
  {
   "cell_type": "code",
   "execution_count": 46,
   "metadata": {},
   "outputs": [
    {
     "name": "stdout",
     "output_type": "stream",
     "text": [
      "C:\\Users\\Terence Neo\\Dropbox\\Berkeley Modules\\CS285 Deep Reinforcement Learning\\homework_fall2022\\hw2\\data\n"
     ]
    },
    {
     "data": {
      "text/plain": [
       "'C:\\\\Users\\\\Terence Neo\\\\Dropbox\\\\Berkeley Modules\\\\CS285 Deep Reinforcement Learning\\\\homework_fall2022\\\\hw2\\\\data'"
      ]
     },
     "execution_count": 46,
     "metadata": {},
     "output_type": "execute_result"
    }
   ],
   "source": [
    "%cd ../../data\n",
    "%pwd"
   ]
  },
  {
   "cell_type": "code",
   "execution_count": 54,
   "metadata": {},
   "outputs": [
    {
     "name": "stderr",
     "output_type": "stream",
     "text": [
      "ERROR: The process \"30608\" not found.\n"
     ]
    }
   ],
   "source": [
    "!taskkill /F /PID 30608"
   ]
  },
  {
   "cell_type": "code",
   "execution_count": 56,
   "metadata": {
    "id": "km7LlYvhqKTl",
    "scrolled": false
   },
   "outputs": [
    {
     "name": "stderr",
     "output_type": "stream",
     "text": [
      "[autoreload of gym.core failed: Traceback (most recent call last):\n",
      "  File \"C:\\ProgramData\\Anaconda3\\envs\\cs285\\lib\\site-packages\\IPython\\extensions\\autoreload.py\", line 245, in check\n",
      "    superreload(m, reload, self.old_objects)\n",
      "  File \"C:\\ProgramData\\Anaconda3\\envs\\cs285\\lib\\site-packages\\IPython\\extensions\\autoreload.py\", line 410, in superreload\n",
      "    update_generic(old_obj, new_obj)\n",
      "  File \"C:\\ProgramData\\Anaconda3\\envs\\cs285\\lib\\site-packages\\IPython\\extensions\\autoreload.py\", line 347, in update_generic\n",
      "    update(a, b)\n",
      "  File \"C:\\ProgramData\\Anaconda3\\envs\\cs285\\lib\\site-packages\\IPython\\extensions\\autoreload.py\", line 302, in update_class\n",
      "    if update_generic(old_obj, new_obj): continue\n",
      "  File \"C:\\ProgramData\\Anaconda3\\envs\\cs285\\lib\\site-packages\\IPython\\extensions\\autoreload.py\", line 347, in update_generic\n",
      "    update(a, b)\n",
      "  File \"C:\\ProgramData\\Anaconda3\\envs\\cs285\\lib\\site-packages\\IPython\\extensions\\autoreload.py\", line 266, in update_function\n",
      "    setattr(old, name, getattr(new, name))\n",
      "ValueError: render() requires a code object with 1 free vars, not 0\n",
      "]\n",
      "C:\\ProgramData\\Anaconda3\\envs\\cs285\\lib\\site-packages\\gym\\envs\\registration.py:542: UserWarning: \u001b[33mWARN: Overriding environment HandManipulateBlockRotateZ-v1\u001b[0m\n",
      "  logger.warn(f\"Overriding environment {spec.id}\")\n",
      "C:\\ProgramData\\Anaconda3\\envs\\cs285\\lib\\site-packages\\gym\\envs\\registration.py:542: UserWarning: \u001b[33mWARN: Overriding environment HandManipulateBlockRotateZDense-v1\u001b[0m\n",
      "  logger.warn(f\"Overriding environment {spec.id}\")\n",
      "C:\\ProgramData\\Anaconda3\\envs\\cs285\\lib\\site-packages\\gym\\envs\\registration.py:542: UserWarning: \u001b[33mWARN: Overriding environment CartPole-v0\u001b[0m\n",
      "  logger.warn(f\"Overriding environment {spec.id}\")\n",
      "C:\\ProgramData\\Anaconda3\\envs\\cs285\\lib\\site-packages\\gym\\envs\\registration.py:542: UserWarning: \u001b[33mWARN: Overriding environment CartPole-v1\u001b[0m\n",
      "  logger.warn(f\"Overriding environment {spec.id}\")\n",
      "C:\\ProgramData\\Anaconda3\\envs\\cs285\\lib\\site-packages\\gym\\envs\\registration.py:542: UserWarning: \u001b[33mWARN: Overriding environment MountainCar-v0\u001b[0m\n",
      "  logger.warn(f\"Overriding environment {spec.id}\")\n",
      "C:\\ProgramData\\Anaconda3\\envs\\cs285\\lib\\site-packages\\gym\\envs\\registration.py:542: UserWarning: \u001b[33mWARN: Overriding environment MountainCarContinuous-v0\u001b[0m\n",
      "  logger.warn(f\"Overriding environment {spec.id}\")\n",
      "C:\\ProgramData\\Anaconda3\\envs\\cs285\\lib\\site-packages\\gym\\envs\\registration.py:542: UserWarning: \u001b[33mWARN: Overriding environment Pendulum-v1\u001b[0m\n",
      "  logger.warn(f\"Overriding environment {spec.id}\")\n",
      "C:\\ProgramData\\Anaconda3\\envs\\cs285\\lib\\site-packages\\gym\\envs\\registration.py:542: UserWarning: \u001b[33mWARN: Overriding environment Acrobot-v1\u001b[0m\n",
      "  logger.warn(f\"Overriding environment {spec.id}\")\n",
      "C:\\ProgramData\\Anaconda3\\envs\\cs285\\lib\\site-packages\\gym\\envs\\registration.py:542: UserWarning: \u001b[33mWARN: Overriding environment LunarLander-v2\u001b[0m\n",
      "  logger.warn(f\"Overriding environment {spec.id}\")\n",
      "C:\\ProgramData\\Anaconda3\\envs\\cs285\\lib\\site-packages\\gym\\envs\\registration.py:542: UserWarning: \u001b[33mWARN: Overriding environment LunarLanderContinuous-v2\u001b[0m\n",
      "  logger.warn(f\"Overriding environment {spec.id}\")\n",
      "C:\\ProgramData\\Anaconda3\\envs\\cs285\\lib\\site-packages\\gym\\envs\\registration.py:542: UserWarning: \u001b[33mWARN: Overriding environment BipedalWalker-v3\u001b[0m\n",
      "  logger.warn(f\"Overriding environment {spec.id}\")\n",
      "C:\\ProgramData\\Anaconda3\\envs\\cs285\\lib\\site-packages\\gym\\envs\\registration.py:542: UserWarning: \u001b[33mWARN: Overriding environment BipedalWalkerHardcore-v3\u001b[0m\n",
      "  logger.warn(f\"Overriding environment {spec.id}\")\n",
      "C:\\ProgramData\\Anaconda3\\envs\\cs285\\lib\\site-packages\\gym\\envs\\registration.py:542: UserWarning: \u001b[33mWARN: Overriding environment CarRacing-v2\u001b[0m\n",
      "  logger.warn(f\"Overriding environment {spec.id}\")\n",
      "C:\\ProgramData\\Anaconda3\\envs\\cs285\\lib\\site-packages\\gym\\envs\\registration.py:542: UserWarning: \u001b[33mWARN: Overriding environment Blackjack-v1\u001b[0m\n",
      "  logger.warn(f\"Overriding environment {spec.id}\")\n",
      "C:\\ProgramData\\Anaconda3\\envs\\cs285\\lib\\site-packages\\gym\\envs\\registration.py:542: UserWarning: \u001b[33mWARN: Overriding environment FrozenLake-v1\u001b[0m\n",
      "  logger.warn(f\"Overriding environment {spec.id}\")\n",
      "C:\\ProgramData\\Anaconda3\\envs\\cs285\\lib\\site-packages\\gym\\envs\\registration.py:542: UserWarning: \u001b[33mWARN: Overriding environment FrozenLake8x8-v1\u001b[0m\n",
      "  logger.warn(f\"Overriding environment {spec.id}\")\n",
      "C:\\ProgramData\\Anaconda3\\envs\\cs285\\lib\\site-packages\\gym\\envs\\registration.py:542: UserWarning: \u001b[33mWARN: Overriding environment CliffWalking-v0\u001b[0m\n",
      "  logger.warn(f\"Overriding environment {spec.id}\")\n",
      "C:\\ProgramData\\Anaconda3\\envs\\cs285\\lib\\site-packages\\gym\\envs\\registration.py:542: UserWarning: \u001b[33mWARN: Overriding environment Taxi-v3\u001b[0m\n",
      "  logger.warn(f\"Overriding environment {spec.id}\")\n",
      "C:\\ProgramData\\Anaconda3\\envs\\cs285\\lib\\site-packages\\gym\\envs\\registration.py:542: UserWarning: \u001b[33mWARN: Overriding environment Reacher-v2\u001b[0m\n",
      "  logger.warn(f\"Overriding environment {spec.id}\")\n",
      "C:\\ProgramData\\Anaconda3\\envs\\cs285\\lib\\site-packages\\gym\\envs\\registration.py:542: UserWarning: \u001b[33mWARN: Overriding environment Reacher-v4\u001b[0m\n",
      "  logger.warn(f\"Overriding environment {spec.id}\")\n",
      "C:\\ProgramData\\Anaconda3\\envs\\cs285\\lib\\site-packages\\gym\\envs\\registration.py:542: UserWarning: \u001b[33mWARN: Overriding environment Pusher-v2\u001b[0m\n",
      "  logger.warn(f\"Overriding environment {spec.id}\")\n",
      "C:\\ProgramData\\Anaconda3\\envs\\cs285\\lib\\site-packages\\gym\\envs\\registration.py:542: UserWarning: \u001b[33mWARN: Overriding environment Pusher-v4\u001b[0m\n",
      "  logger.warn(f\"Overriding environment {spec.id}\")\n",
      "C:\\ProgramData\\Anaconda3\\envs\\cs285\\lib\\site-packages\\gym\\envs\\registration.py:542: UserWarning: \u001b[33mWARN: Overriding environment InvertedPendulum-v2\u001b[0m\n",
      "  logger.warn(f\"Overriding environment {spec.id}\")\n",
      "C:\\ProgramData\\Anaconda3\\envs\\cs285\\lib\\site-packages\\gym\\envs\\registration.py:542: UserWarning: \u001b[33mWARN: Overriding environment InvertedPendulum-v4\u001b[0m\n",
      "  logger.warn(f\"Overriding environment {spec.id}\")\n",
      "C:\\ProgramData\\Anaconda3\\envs\\cs285\\lib\\site-packages\\gym\\envs\\registration.py:542: UserWarning: \u001b[33mWARN: Overriding environment InvertedDoublePendulum-v2\u001b[0m\n",
      "  logger.warn(f\"Overriding environment {spec.id}\")\n",
      "C:\\ProgramData\\Anaconda3\\envs\\cs285\\lib\\site-packages\\gym\\envs\\registration.py:542: UserWarning: \u001b[33mWARN: Overriding environment InvertedDoublePendulum-v4\u001b[0m\n",
      "  logger.warn(f\"Overriding environment {spec.id}\")\n",
      "C:\\ProgramData\\Anaconda3\\envs\\cs285\\lib\\site-packages\\gym\\envs\\registration.py:542: UserWarning: \u001b[33mWARN: Overriding environment HalfCheetah-v2\u001b[0m\n",
      "  logger.warn(f\"Overriding environment {spec.id}\")\n",
      "C:\\ProgramData\\Anaconda3\\envs\\cs285\\lib\\site-packages\\gym\\envs\\registration.py:542: UserWarning: \u001b[33mWARN: Overriding environment HalfCheetah-v3\u001b[0m\n",
      "  logger.warn(f\"Overriding environment {spec.id}\")\n",
      "C:\\ProgramData\\Anaconda3\\envs\\cs285\\lib\\site-packages\\gym\\envs\\registration.py:542: UserWarning: \u001b[33mWARN: Overriding environment HalfCheetah-v4\u001b[0m\n",
      "  logger.warn(f\"Overriding environment {spec.id}\")\n",
      "C:\\ProgramData\\Anaconda3\\envs\\cs285\\lib\\site-packages\\gym\\envs\\registration.py:542: UserWarning: \u001b[33mWARN: Overriding environment Hopper-v2\u001b[0m\n",
      "  logger.warn(f\"Overriding environment {spec.id}\")\n",
      "C:\\ProgramData\\Anaconda3\\envs\\cs285\\lib\\site-packages\\gym\\envs\\registration.py:542: UserWarning: \u001b[33mWARN: Overriding environment Hopper-v3\u001b[0m\n",
      "  logger.warn(f\"Overriding environment {spec.id}\")\n",
      "C:\\ProgramData\\Anaconda3\\envs\\cs285\\lib\\site-packages\\gym\\envs\\registration.py:542: UserWarning: \u001b[33mWARN: Overriding environment Hopper-v4\u001b[0m\n",
      "  logger.warn(f\"Overriding environment {spec.id}\")\n",
      "C:\\ProgramData\\Anaconda3\\envs\\cs285\\lib\\site-packages\\gym\\envs\\registration.py:542: UserWarning: \u001b[33mWARN: Overriding environment Swimmer-v2\u001b[0m\n",
      "  logger.warn(f\"Overriding environment {spec.id}\")\n",
      "C:\\ProgramData\\Anaconda3\\envs\\cs285\\lib\\site-packages\\gym\\envs\\registration.py:542: UserWarning: \u001b[33mWARN: Overriding environment Swimmer-v3\u001b[0m\n",
      "  logger.warn(f\"Overriding environment {spec.id}\")\n",
      "C:\\ProgramData\\Anaconda3\\envs\\cs285\\lib\\site-packages\\gym\\envs\\registration.py:542: UserWarning: \u001b[33mWARN: Overriding environment Swimmer-v4\u001b[0m\n",
      "  logger.warn(f\"Overriding environment {spec.id}\")\n",
      "C:\\ProgramData\\Anaconda3\\envs\\cs285\\lib\\site-packages\\gym\\envs\\registration.py:542: UserWarning: \u001b[33mWARN: Overriding environment Walker2d-v2\u001b[0m\n",
      "  logger.warn(f\"Overriding environment {spec.id}\")\n",
      "C:\\ProgramData\\Anaconda3\\envs\\cs285\\lib\\site-packages\\gym\\envs\\registration.py:542: UserWarning: \u001b[33mWARN: Overriding environment Walker2d-v3\u001b[0m\n",
      "  logger.warn(f\"Overriding environment {spec.id}\")\n",
      "C:\\ProgramData\\Anaconda3\\envs\\cs285\\lib\\site-packages\\gym\\envs\\registration.py:542: UserWarning: \u001b[33mWARN: Overriding environment Walker2d-v4\u001b[0m\n",
      "  logger.warn(f\"Overriding environment {spec.id}\")\n",
      "C:\\ProgramData\\Anaconda3\\envs\\cs285\\lib\\site-packages\\gym\\envs\\registration.py:542: UserWarning: \u001b[33mWARN: Overriding environment Ant-v2\u001b[0m\n",
      "  logger.warn(f\"Overriding environment {spec.id}\")\n",
      "C:\\ProgramData\\Anaconda3\\envs\\cs285\\lib\\site-packages\\gym\\envs\\registration.py:542: UserWarning: \u001b[33mWARN: Overriding environment Ant-v3\u001b[0m\n",
      "  logger.warn(f\"Overriding environment {spec.id}\")\n",
      "C:\\ProgramData\\Anaconda3\\envs\\cs285\\lib\\site-packages\\gym\\envs\\registration.py:542: UserWarning: \u001b[33mWARN: Overriding environment Ant-v4\u001b[0m\n",
      "  logger.warn(f\"Overriding environment {spec.id}\")\n",
      "C:\\ProgramData\\Anaconda3\\envs\\cs285\\lib\\site-packages\\gym\\envs\\registration.py:542: UserWarning: \u001b[33mWARN: Overriding environment Humanoid-v2\u001b[0m\n",
      "  logger.warn(f\"Overriding environment {spec.id}\")\n",
      "C:\\ProgramData\\Anaconda3\\envs\\cs285\\lib\\site-packages\\gym\\envs\\registration.py:542: UserWarning: \u001b[33mWARN: Overriding environment Humanoid-v3\u001b[0m\n",
      "  logger.warn(f\"Overriding environment {spec.id}\")\n",
      "C:\\ProgramData\\Anaconda3\\envs\\cs285\\lib\\site-packages\\gym\\envs\\registration.py:542: UserWarning: \u001b[33mWARN: Overriding environment Humanoid-v4\u001b[0m\n",
      "  logger.warn(f\"Overriding environment {spec.id}\")\n",
      "C:\\ProgramData\\Anaconda3\\envs\\cs285\\lib\\site-packages\\gym\\envs\\registration.py:542: UserWarning: \u001b[33mWARN: Overriding environment HumanoidStandup-v2\u001b[0m\n",
      "  logger.warn(f\"Overriding environment {spec.id}\")\n",
      "C:\\ProgramData\\Anaconda3\\envs\\cs285\\lib\\site-packages\\gym\\envs\\registration.py:542: UserWarning: \u001b[33mWARN: Overriding environment HumanoidStandup-v4\u001b[0m\n",
      "  logger.warn(f\"Overriding environment {spec.id}\")\n",
      "[autoreload of gym.envs.registration failed: Traceback (most recent call last):\n",
      "  File \"C:\\ProgramData\\Anaconda3\\envs\\cs285\\lib\\site-packages\\IPython\\extensions\\autoreload.py\", line 245, in check\n",
      "    superreload(m, reload, self.old_objects)\n",
      "  File \"C:\\ProgramData\\Anaconda3\\envs\\cs285\\lib\\site-packages\\IPython\\extensions\\autoreload.py\", line 394, in superreload\n",
      "    module = reload(module)\n",
      "  File \"C:\\ProgramData\\Anaconda3\\envs\\cs285\\lib\\imp.py\", line 314, in reload\n",
      "    return importlib.reload(module)\n",
      "  File \"C:\\ProgramData\\Anaconda3\\envs\\cs285\\lib\\importlib\\__init__.py\", line 169, in reload\n",
      "    _bootstrap._exec(spec, module)\n",
      "  File \"<frozen importlib._bootstrap>\", line 630, in _exec\n",
      "  File \"<frozen importlib._bootstrap_external>\", line 728, in exec_module\n",
      "  File \"<frozen importlib._bootstrap>\", line 219, in _call_with_frames_removed\n",
      "  File \"C:\\ProgramData\\Anaconda3\\envs\\cs285\\lib\\site-packages\\gym\\envs\\registration.py\", line 24, in <module>\n",
      "    from gym.wrappers import (\n",
      "ImportError: cannot import name 'RenderCollection' from 'gym.wrappers' (C:\\ProgramData\\Anaconda3\\envs\\cs285\\lib\\site-packages\\gym\\wrappers\\__init__.py)\n",
      "]\n",
      "[autoreload of gym.wrappers.human_rendering failed: Traceback (most recent call last):\n",
      "  File \"C:\\ProgramData\\Anaconda3\\envs\\cs285\\lib\\site-packages\\IPython\\extensions\\autoreload.py\", line 245, in check\n",
      "    superreload(m, reload, self.old_objects)\n",
      "  File \"C:\\ProgramData\\Anaconda3\\envs\\cs285\\lib\\site-packages\\IPython\\extensions\\autoreload.py\", line 410, in superreload\n",
      "    update_generic(old_obj, new_obj)\n",
      "  File \"C:\\ProgramData\\Anaconda3\\envs\\cs285\\lib\\site-packages\\IPython\\extensions\\autoreload.py\", line 347, in update_generic\n",
      "    update(a, b)\n",
      "  File \"C:\\ProgramData\\Anaconda3\\envs\\cs285\\lib\\site-packages\\IPython\\extensions\\autoreload.py\", line 302, in update_class\n",
      "    if update_generic(old_obj, new_obj): continue\n",
      "  File \"C:\\ProgramData\\Anaconda3\\envs\\cs285\\lib\\site-packages\\IPython\\extensions\\autoreload.py\", line 347, in update_generic\n",
      "    update(a, b)\n",
      "  File \"C:\\ProgramData\\Anaconda3\\envs\\cs285\\lib\\site-packages\\IPython\\extensions\\autoreload.py\", line 266, in update_function\n",
      "    setattr(old, name, getattr(new, name))\n",
      "ValueError: render() requires a code object with 1 free vars, not 0\n",
      "]\n",
      "[autoreload of gym.wrappers.normalize failed: Traceback (most recent call last):\n",
      "  File \"C:\\ProgramData\\Anaconda3\\envs\\cs285\\lib\\site-packages\\IPython\\extensions\\autoreload.py\", line 245, in check\n",
      "    superreload(m, reload, self.old_objects)\n",
      "  File \"C:\\ProgramData\\Anaconda3\\envs\\cs285\\lib\\site-packages\\IPython\\extensions\\autoreload.py\", line 394, in superreload\n",
      "    module = reload(module)\n",
      "  File \"C:\\ProgramData\\Anaconda3\\envs\\cs285\\lib\\imp.py\", line 314, in reload\n",
      "    return importlib.reload(module)\n",
      "  File \"C:\\ProgramData\\Anaconda3\\envs\\cs285\\lib\\importlib\\__init__.py\", line 169, in reload\n",
      "    _bootstrap._exec(spec, module)\n",
      "  File \"<frozen importlib._bootstrap>\", line 630, in _exec\n",
      "  File \"<frozen importlib._bootstrap_external>\", line 728, in exec_module\n",
      "  File \"<frozen importlib._bootstrap>\", line 219, in _call_with_frames_removed\n",
      "  File \"C:\\ProgramData\\Anaconda3\\envs\\cs285\\lib\\site-packages\\gym\\wrappers\\normalize.py\", line 49, in <module>\n",
      "    class NormalizeObservation(gym.core.Wrapper):\n",
      "AttributeError: module 'gym' has no attribute 'core'\n",
      "]\n",
      "[autoreload of gym.wrappers.order_enforcing failed: Traceback (most recent call last):\n",
      "  File \"C:\\ProgramData\\Anaconda3\\envs\\cs285\\lib\\site-packages\\IPython\\extensions\\autoreload.py\", line 245, in check\n",
      "    superreload(m, reload, self.old_objects)\n",
      "  File \"C:\\ProgramData\\Anaconda3\\envs\\cs285\\lib\\site-packages\\IPython\\extensions\\autoreload.py\", line 410, in superreload\n",
      "    update_generic(old_obj, new_obj)\n",
      "  File \"C:\\ProgramData\\Anaconda3\\envs\\cs285\\lib\\site-packages\\IPython\\extensions\\autoreload.py\", line 347, in update_generic\n",
      "    update(a, b)\n",
      "  File \"C:\\ProgramData\\Anaconda3\\envs\\cs285\\lib\\site-packages\\IPython\\extensions\\autoreload.py\", line 302, in update_class\n",
      "    if update_generic(old_obj, new_obj): continue\n",
      "  File \"C:\\ProgramData\\Anaconda3\\envs\\cs285\\lib\\site-packages\\IPython\\extensions\\autoreload.py\", line 347, in update_generic\n",
      "    update(a, b)\n",
      "  File \"C:\\ProgramData\\Anaconda3\\envs\\cs285\\lib\\site-packages\\IPython\\extensions\\autoreload.py\", line 266, in update_function\n",
      "    setattr(old, name, getattr(new, name))\n",
      "ValueError: render() requires a code object with 1 free vars, not 0\n",
      "]\n"
     ]
    },
    {
     "name": "stderr",
     "output_type": "stream",
     "text": [
      "[autoreload of gym.wrappers.env_checker failed: Traceback (most recent call last):\n",
      "  File \"C:\\ProgramData\\Anaconda3\\envs\\cs285\\lib\\site-packages\\IPython\\extensions\\autoreload.py\", line 245, in check\n",
      "    superreload(m, reload, self.old_objects)\n",
      "  File \"C:\\ProgramData\\Anaconda3\\envs\\cs285\\lib\\site-packages\\IPython\\extensions\\autoreload.py\", line 410, in superreload\n",
      "    update_generic(old_obj, new_obj)\n",
      "  File \"C:\\ProgramData\\Anaconda3\\envs\\cs285\\lib\\site-packages\\IPython\\extensions\\autoreload.py\", line 347, in update_generic\n",
      "    update(a, b)\n",
      "  File \"C:\\ProgramData\\Anaconda3\\envs\\cs285\\lib\\site-packages\\IPython\\extensions\\autoreload.py\", line 302, in update_class\n",
      "    if update_generic(old_obj, new_obj): continue\n",
      "  File \"C:\\ProgramData\\Anaconda3\\envs\\cs285\\lib\\site-packages\\IPython\\extensions\\autoreload.py\", line 347, in update_generic\n",
      "    update(a, b)\n",
      "  File \"C:\\ProgramData\\Anaconda3\\envs\\cs285\\lib\\site-packages\\IPython\\extensions\\autoreload.py\", line 266, in update_function\n",
      "    setattr(old, name, getattr(new, name))\n",
      "ValueError: render() requires a code object with 1 free vars, not 0\n",
      "]\n",
      "[autoreload of gym.vector.async_vector_env failed: Traceback (most recent call last):\n",
      "  File \"C:\\ProgramData\\Anaconda3\\envs\\cs285\\lib\\site-packages\\IPython\\extensions\\autoreload.py\", line 245, in check\n",
      "    superreload(m, reload, self.old_objects)\n",
      "  File \"C:\\ProgramData\\Anaconda3\\envs\\cs285\\lib\\site-packages\\IPython\\extensions\\autoreload.py\", line 410, in superreload\n",
      "    update_generic(old_obj, new_obj)\n",
      "  File \"C:\\ProgramData\\Anaconda3\\envs\\cs285\\lib\\site-packages\\IPython\\extensions\\autoreload.py\", line 347, in update_generic\n",
      "    update(a, b)\n",
      "  File \"C:\\ProgramData\\Anaconda3\\envs\\cs285\\lib\\site-packages\\IPython\\extensions\\autoreload.py\", line 302, in update_class\n",
      "    if update_generic(old_obj, new_obj): continue\n",
      "  File \"C:\\ProgramData\\Anaconda3\\envs\\cs285\\lib\\site-packages\\IPython\\extensions\\autoreload.py\", line 347, in update_generic\n",
      "    update(a, b)\n",
      "  File \"C:\\ProgramData\\Anaconda3\\envs\\cs285\\lib\\site-packages\\IPython\\extensions\\autoreload.py\", line 266, in update_function\n",
      "    setattr(old, name, getattr(new, name))\n",
      "ValueError: seed() requires a code object with 1 free vars, not 0\n",
      "]\n"
     ]
    },
    {
     "data": {
      "text/plain": [
       "Reusing TensorBoard on port 6006 (pid 30608), started 7:22:38 ago. (Use '!kill 30608' to kill it.)"
      ]
     },
     "metadata": {},
     "output_type": "display_data"
    },
    {
     "data": {
      "text/html": [
       "\n",
       "      <iframe id=\"tensorboard-frame-35785a7c5a9793dd\" width=\"100%\" height=\"800\" frameborder=\"0\">\n",
       "      </iframe>\n",
       "      <script>\n",
       "        (function() {\n",
       "          const frame = document.getElementById(\"tensorboard-frame-35785a7c5a9793dd\");\n",
       "          const url = new URL(\"/\", window.location);\n",
       "          const port = 6006;\n",
       "          if (port) {\n",
       "            url.port = port;\n",
       "          }\n",
       "          frame.src = url;\n",
       "        })();\n",
       "      </script>\n",
       "    "
      ],
      "text/plain": [
       "<IPython.core.display.HTML object>"
      ]
     },
     "metadata": {},
     "output_type": "display_data"
    }
   ],
   "source": [
    "#@markdown You can visualize your runs with tensorboard from within the notebook\n",
    "\n",
    "## requires tensorflow==2.3.0\n",
    "# %load_ext tensorboard\n",
    "%reload_ext tensorboard\n",
    "%tensorboard --logdir ."
   ]
  }
 ],
 "metadata": {
  "accelerator": "GPU",
  "colab": {
   "collapsed_sections": [],
   "provenance": [],
   "toc_visible": true
  },
  "kernelspec": {
   "display_name": "Python 3",
   "language": "python",
   "name": "python3"
  },
  "language_info": {
   "codemirror_mode": {
    "name": "ipython",
    "version": 3
   },
   "file_extension": ".py",
   "mimetype": "text/x-python",
   "name": "python",
   "nbconvert_exporter": "python",
   "pygments_lexer": "ipython3",
   "version": "3.7.13"
  },
  "toc": {
   "base_numbering": 1,
   "nav_menu": {},
   "number_sections": true,
   "sideBar": true,
   "skip_h1_title": false,
   "title_cell": "Table of Contents",
   "title_sidebar": "Contents",
   "toc_cell": true,
   "toc_position": {},
   "toc_section_display": true,
   "toc_window_display": true
  },
  "vscode": {
   "interpreter": {
    "hash": "60f28da990a82b6e9f66922c01f222c0916fbdfe01a81492b8c0a757a8864f6f"
   }
  }
 },
 "nbformat": 4,
 "nbformat_minor": 1
}
